{
 "cells": [
  {
   "cell_type": "code",
   "execution_count": 1,
   "metadata": {},
   "outputs": [],
   "source": [
    "import numpy as np\n",
    "from matplotlib.pyplot import figure, show\n",
    "from glm_utils import simpleaxis \n",
    "\n",
    "class SimpleIF(object):\n",
    "    ''' Simple Integrated-and-fire model of the form:\n",
    "        Cm*dV/dt + gl*(V-El) = Iapp\n",
    "\n",
    "        Cm is the membrane capacitante\n",
    "        gl is the leak conductance\n",
    "        El is the resting membrane potential\n",
    "        Ipp is the applied current\n",
    "    '''\n",
    "\n",
    "    def __init__(self, Cm, gl, El, Vinit=-70.):\n",
    "        self._Cm = float(Cm) # in ms\n",
    "        self._gl = float(gl) # in uS\n",
    "        self._El = float(El) # in mV\n",
    "        self._Vinit = float(Vinit) # in mV\n",
    "\n",
    "        # fixed threshold\n",
    "        self._Vthr = -49 # in mV\n",
    "\n",
    "    def dVdt(self, Vmb, Iapp):\n",
    "        ''' returns the instantaneous voltage change\n",
    "            as a function of Cm, gl, El and Iapp\n",
    "        '''\n",
    "        Cm = self._Cm\n",
    "        gl = self._gl\n",
    "        El = self._El\n",
    "\n",
    "        return (Iapp - gl*(Vmb - El) )/Cm\n",
    "\n",
    "    def timecourse(self, current, noise_std = 0):\n",
    "        ''' returns the time course of the voltage as\n",
    "        a function of the current injected when solved\n",
    "        by the implicit Euler method:\n",
    "        f(x) = f(x-1) + dt*f'(x)\n",
    "\n",
    "        we assume dt is the sampling interval of the current\n",
    "        '''\n",
    "\n",
    "        voltage = np.empty(len(current))\n",
    "\n",
    "        # initial condition\n",
    "        voltage[0] = self._Vinit\n",
    "        dt = 0.05 # step size integration\n",
    "\n",
    "        # Eulers solver\n",
    "        for i in range(1, len(current)):\n",
    "            dVdt = self.dVdt(Vmb = voltage[i-1], Iapp = current[i-1])\n",
    "            voltage[i] = voltage[i-1] + dt*dVdt + np.random.normal(scale = noise_std)\n",
    "            # action potential threshold\n",
    "            if voltage[i] > self._Vthr:\n",
    "                voltage[i-1] = 0.0 # overshooting\n",
    "                voltage[i] = self._El # reset voltage\n",
    "\n",
    "        return voltage"
   ]
  },
  {
   "cell_type": "code",
   "execution_count": 2,
   "metadata": {},
   "outputs": [],
   "source": [
    "# current injection\n",
    "\n",
    "#current = int(250/dt)*[0] + int(1000/dt)*[2.5] + int(250/dt)*[0]\n",
    "\n",
    "from scipy.stats import norm\n",
    "import matplotlib.pyplot as plt\n",
    "%matplotlib inline\n",
    "\n",
    "n_steps = 1e6\n",
    "dt = 0.05 # in ms\n",
    "\n",
    "time = np.linspace(0, int(n_steps*(dt/1000)), int(n_steps)) # transform in sec\n",
    "\n",
    "num_objects = 15\n",
    "\n",
    "stim_pres = 300 #ms\n",
    "stim_step = 300"
   ]
  },
  {
   "cell_type": "code",
   "execution_count": 3,
   "metadata": {},
   "outputs": [],
   "source": [
    "gain_factors = np.linspace(.5, 2, num = 10)\n",
    "\n",
    "current_dict = {}\n",
    "av_currents = []\n",
    "for g_f in gain_factors:\n",
    "    tuning = g_f*num_objects * norm.pdf(range(num_objects), loc = num_objects / 2, scale = 2)\n",
    "\n",
    "    av_currents.append(np.max(tuning))\n",
    "    \n",
    "#plt.plot(current)\n",
    "#plt.show()\n",
    "\n",
    "#plt.plot(obj)"
   ]
  },
  {
   "cell_type": "code",
   "execution_count": 4,
   "metadata": {},
   "outputs": [],
   "source": [
    "def calculate_rate(spikes, half_width):\n",
    "    half_width = int(half_width)\n",
    "    new_spikes = np.zeros_like(spikes)\n",
    "    \n",
    "    for i, s in enumerate(spikes):\n",
    "        if i < half_width:\n",
    "            first_half = np.zeros([half_width])\n",
    "        else:\n",
    "            first_half = spikes[i-half_width:i]\n",
    "            \n",
    "        if (len(spikes) - i) < half_width:\n",
    "            second_half = np.zeros([half_width])\n",
    "            \n",
    "        else:\n",
    "            second_half = spikes[i:i +half_width]\n",
    "            \n",
    "        new_spikes[i] = np.mean(np.sum([first_half, second_half]))\n",
    "        \n",
    "    return new_spikes"
   ]
  },
  {
   "cell_type": "code",
   "execution_count": 5,
   "metadata": {},
   "outputs": [],
   "source": [
    "def calculate_variance(voltage):\n",
    "    \n",
    "    for i, v in enumerate(voltage):\n",
    "        if v > -49:\n",
    "            voltage[i - 100:i + 1000] = np.nan\n",
    "            \n",
    "    return np.nanvar(voltage)"
   ]
  },
  {
   "cell_type": "code",
   "execution_count": 8,
   "metadata": {},
   "outputs": [
    {
     "data": {
      "text/plain": [
       "5000.0"
      ]
     },
     "execution_count": 8,
     "metadata": {},
     "output_type": "execute_result"
    }
   ],
   "source": [
    "250/dt"
   ]
  },
  {
   "cell_type": "code",
   "execution_count": 7,
   "metadata": {},
   "outputs": [
    {
     "name": "stderr",
     "output_type": "stream",
     "text": [
      "C:\\Users\\Amy\\anaconda3\\envs\\allensdk\\lib\\site-packages\\ipykernel_launcher.py:65: RuntimeWarning: invalid value encountered in double_scalars\n"
     ]
    }
   ],
   "source": [
    "figure_shit_out_re = []\n",
    "\n",
    "reliability_re = []\n",
    "reliability_std = []\n",
    "\n",
    "rate_re = []\n",
    "mean_var_re = []\n",
    "marginal_var_re = []\n",
    "\n",
    "gain_factors = np.linspace(.5, 2, num = 10)\n",
    "\n",
    "noise_std = np.linspace(.01, 1, num = 10)\n",
    "\n",
    "#noise = [.235, .34]\n",
    "mem = [68, 70]\n",
    "\n",
    "bootstraps =  10\n",
    "\n",
    "for j, n in enumerate(noise_std):\n",
    "    for g_f in gain_factors:\n",
    "        rel = []\n",
    "        ra = []\n",
    "        mev = []\n",
    "        mav = []\n",
    "        for i in range(bootstraps):\n",
    "            tuning = g_f*num_objects * norm.pdf(range(num_objects), loc = num_objects / 2, scale = 2)\n",
    "            current = []\n",
    "            obj = []\n",
    "\n",
    "            #stim_pres = 300 #ms\n",
    "            stim_step = 300\n",
    "\n",
    "            item = np.random.randint(0, num_objects)\n",
    "            for t in time * 1000:\n",
    "                if t < stim_step:        \n",
    "                    obj.append(item)\n",
    "                    current.append(tuning[item])\n",
    "                else:\n",
    "                    stim_step += stim_pres\n",
    "                    item = np.random.randint(0, num_objects)\n",
    "                    obj.append(item)\n",
    "                    current.append(tuning[item])\n",
    "\n",
    "            #mycell = SimpleIF(Cm =4.9, gl = .16, El=-mem[j], Vinit = -mem[j]) # spike threshold = -50 mV!!!\n",
    "            mycell = SimpleIF(Cm =4.9, gl = .16, El=-mem[0], Vinit = -mem[0])\n",
    "            voltage = mycell.timecourse(current, noise_std = n)\n",
    "\n",
    "            spikes = (voltage > -49).astype('int')\n",
    "            rate = calculate_rate(spikes, 250/dt)\n",
    "\n",
    "            spike_count = np.zeros([num_objects])\n",
    "            num_pres = np.zeros([num_objects])\n",
    "\n",
    "            for i in range(int(n_steps)):\n",
    "                spike_count[obj[i]] += rate[i]\n",
    "                num_pres[obj[i]] += 1\n",
    "\n",
    "            spike_count = np.array(spike_count)\n",
    "            num_pres = np.array(num_pres) / (float(stim_pres) / dt)\n",
    "\n",
    "            spike_count /= num_pres\n",
    "\n",
    "            spike_count /= 10000\n",
    "            \n",
    "            rel.append(np.var(spike_count) / np.var(rate))\n",
    "            ra.append(np.mean(rate))\n",
    "            mev.append(np.var(spike_count))\n",
    "            mav.append(np.var(rate))\n",
    "\n",
    "        reliability_re.append(np.mean(rel))\n",
    "        reliability_std.append(np.std(rel)/ np.sqrt(10))\n",
    "        rate_re.append(np.mean(rate))\n",
    "        mean_var_re.append(np.mean(mev))\n",
    "        marginal_var_re.append(np.mean(mav))\n",
    "        figure_shit_out_re.append((n, g_f))"
   ]
  },
  {
   "cell_type": "code",
   "execution_count": 9,
   "metadata": {},
   "outputs": [],
   "source": [
    "reliability_re = np.array(reliability_re).reshape(10, 10)\n",
    "reliability_std = np.array(reliability_std).reshape(10, 10)\n",
    "rate_re = np.array(rate_re).reshape(10, 10)"
   ]
  },
  {
   "cell_type": "code",
   "execution_count": 12,
   "metadata": {},
   "outputs": [
    {
     "data": {
      "image/png": "[encoded data removed]",
      "text/plain": [
       "<Figure size 720x720 with 8 Axes>"
      ]
     },
     "metadata": {
      "needs_background": "light"
     },
     "output_type": "display_data"
    }
   ],
   "source": [
    "plt.figure(figsize = [10, 10])\n",
    "\n",
    "plt.subplot(421)\n",
    "plt.title('reliabililty')\n",
    "plt.imshow(reliability_re, interpolation = 'none', cmap =  'magma', origin = 'lower')\n",
    "plt.ylabel('noise level')\n",
    "plt.xlabel('input current')\n",
    "plt.colorbar()\n",
    "plt.subplot(422)\n",
    "plt.imshow(rate_re, interpolation = 'none', cmap = 'magma', origin = 'lower')\n",
    "plt.title('firing rate')\n",
    "plt.ylabel('noise level')\n",
    "plt.xlabel('input current')\n",
    "plt.colorbar()\n",
    "plt.subplot(423)\n",
    "plt.title('mean variance')\n",
    "plt.imshow(np.array(mean_var_re).reshape(10, 10), interpolation = 'none', cmap = 'magma', origin = 'lower')\n",
    "plt.ylabel('noise level')\n",
    "plt.xlabel('input current')\n",
    "plt.colorbar()\n",
    "plt.subplot(424)\n",
    "plt.title('marginal variance')\n",
    "plt.imshow(np.array(marginal_var_re).reshape(10, 10), interpolation = 'none', cmap = 'magma', origin = 'lower')\n",
    "plt.ylabel('noise level')\n",
    "plt.xlabel('input current')\n",
    "plt.colorbar()\n",
    "plt.tight_layout()\n",
    "\n",
    "#plt.savefig('./figs/final_figs/fig3supp/abc.eps', format='eps', dpi = 300);"
   ]
  },
  {
   "cell_type": "code",
   "execution_count": 14,
   "metadata": {},
   "outputs": [
    {
     "data": {
      "text/plain": [
       "(0.12, 0.26)"
      ]
     },
     "execution_count": 14,
     "metadata": {},
     "output_type": "execute_result"
    },
    {
     "data": {
      "image/png": "[encoded data removed]",
      "text/plain": [
       "<Figure size 720x720 with 1 Axes>"
      ]
     },
     "metadata": {
      "needs_background": "light"
     },
     "output_type": "display_data"
    }
   ],
   "source": [
    "from glm_utils import simpleaxis\n",
    "\n",
    "plt.figure(figsize = [10, 10])\n",
    "\n",
    "reliability = np.array(mean_var_re) / np.array(marginal_var_re)\n",
    "\n",
    "ax = plt.subplot(211)\n",
    "for i in range(2):\n",
    "\n",
    "    plt.plot(av_currents, reliability_re[i, :], c = 'b', alpha = 1);\n",
    "    plt.fill_between(av_currents, reliability_re[i, :] - reliability_std[i, :], \n",
    "                     reliability_re[i, :] + reliability_std[i, :], alpha = .25)\n",
    "    \n",
    "simpleaxis(ax)\n",
    "plt.ylabel('reliability')\n",
    "plt.xlabel('current (nA)')\n",
    "plt.xlim([1.5, 3.75])\n",
    "plt.ylim([.12, .26])\n",
    "\n",
    "#plt.savefig('./final_submission/figs/run_stat_LIF.eps', format='eps', dpi = 300);"
   ]
  },
  {
   "cell_type": "code",
   "execution_count": null,
   "metadata": {},
   "outputs": [],
   "source": [
    "import pandas as pd\n",
    "\n",
    "reliability_df = pd.DataFrame.from_dict({'current': av_currents, 'run_reliability': reliability_re[0, :], 'stat_reliability': reliability_re[1, :]})"
   ]
  },
  {
   "cell_type": "code",
   "execution_count": null,
   "metadata": {},
   "outputs": [],
   "source": [
    "reliability_df.to_csv('figure4_run_stat_variance_voltage.csv', ',')"
   ]
  },
  {
   "cell_type": "code",
   "execution_count": null,
   "metadata": {},
   "outputs": [],
   "source": [
    "current = int(10000/dt)*[0]  + int(500/dt)*[3.5] + int(500/dt)*[0]\n",
    "\n",
    "var_ = []\n",
    "var_std = []\n",
    "\n",
    "#noise = [.235]#, .35]\n",
    "noise = [.34]\n",
    "\n",
    "\n",
    "for n in noise:\n",
    "    v = []\n",
    "    for i in range(bootstraps):\n",
    "        mycell = SimpleIF(Cm =4.9, gl = .16, El=-70.1, Vinit = -70.1) # spike threshold = -49 mV!!!\n",
    "        voltage = mycell.timecourse(current, noise_std = n)\n",
    "        var = calculate_variance(voltage)\n",
    "        v.append(var)\n",
    "        \n",
    "    var_.append(np.mean(v))\n",
    "    var_std.append(np.std(v))"
   ]
  },
  {
   "cell_type": "code",
   "execution_count": null,
   "metadata": {},
   "outputs": [],
   "source": [
    "var_"
   ]
  },
  {
   "cell_type": "code",
   "execution_count": null,
   "metadata": {},
   "outputs": [],
   "source": [
    "current = int(1000/dt)*[0]  + int(500/dt)*[3.5] + int(1000/dt)*[0]\n",
    "mycell = SimpleIF(Cm =4.9, gl = .16, El=-70., Vinit = -70.) # spike threshold = -49 mV!!!\n",
    "voltage = mycell.timecourse(current, noise_std = .34)"
   ]
  },
  {
   "cell_type": "code",
   "execution_count": null,
   "metadata": {},
   "outputs": [],
   "source": [
    "plt.figure(figsize = [10, 10])\n",
    "\n",
    "ax  = plt.subplot(221)\n",
    "plt.plot(voltage)\n",
    "plt.plot(current)\n",
    "plt.ylim([-90, 10])\n",
    "simpleaxis(ax)\n",
    "\n",
    "ax  = plt.subplot(222)\n",
    "plt.plot(voltage1)\n",
    "plt.plot(current)\n",
    "plt.ylim([-90, 10])\n",
    "simpleaxis(ax)\n",
    "\n",
    "plt.savefig('./final_submission/figs/LIF_step.eps', format='eps', dpi = 300);"
   ]
  },
  {
   "cell_type": "code",
   "execution_count": null,
   "metadata": {},
   "outputs": [],
   "source": []
  }
 ],
 "metadata": {
  "kernelspec": {
   "display_name": "Python 3 (ipykernel)",
   "language": "python",
   "name": "python3"
  },
  "language_info": {
   "codemirror_mode": {
    "name": "ipython",
    "version": 3
   },
   "file_extension": ".py",
   "mimetype": "text/x-python",
   "name": "python",
   "nbconvert_exporter": "python",
   "pygments_lexer": "ipython3",
   "version": "3.7.11"
  }
 },
 "nbformat": 4,
 "nbformat_minor": 1
}
